{
 "cells": [
  {
   "cell_type": "code",
   "execution_count": null,
   "metadata": {
    "ExecuteTime": {
     "end_time": "2023-09-18T15:12:00.189037Z",
     "start_time": "2023-09-18T15:11:59.274654Z"
    },
    "collapsed": true
   },
   "outputs": [],
   "source": [
    "import numpy as np\n",
    "import pandas as pd\n",
    "import matplotlib.pyplot as plt\n",
    "import seaborn as sns\n",
    "from sklearn.preprocessing import PolynomialFeatures, StandardScaler\n",
    "from sklearn.linear_model import LinearRegression\n",
    "from sklearn.metrics import mean_squared_error\n",
    "from sklearn.model_selection import train_test_split\n",
    "from sklearn.neural_network import MLPRegressor\n",
    "from sklearn import tree\n",
    "from sklearn.ensemble import RandomForestRegressor"
   ]
  },
  {
   "cell_type": "code",
   "execution_count": null,
   "metadata": {
    "ExecuteTime": {
     "end_time": "2023-09-18T15:14:06.959825Z",
     "start_time": "2023-09-18T15:14:06.775733Z"
    },
    "collapsed": false
   },
   "outputs": [],
   "source": [
    "# read data\n",
    "df = pd.read_csv('dielectron.csv')\n",
    "df.head(5)\n",
    "\n",
    "#drop run and event number\n",
    "df.drop(['Run','Event'], axis=1, inplace=True)"
   ]
  },
  {
   "cell_type": "code",
   "execution_count": null,
   "metadata": {},
   "outputs": [],
   "source": [
    "df.head(5)"
   ]
  },
  {
   "cell_type": "code",
   "execution_count": null,
   "metadata": {
    "collapsed": false
   },
   "outputs": [],
   "source": [
    "df.info()"
   ]
  },
  {
   "cell_type": "code",
   "execution_count": null,
   "metadata": {},
   "outputs": [],
   "source": [
    "# check null values\n",
    "df.isnull().sum()"
   ]
  },
  {
   "cell_type": "code",
   "execution_count": null,
   "metadata": {},
   "outputs": [],
   "source": [
    "# delete null values\n",
    "df = df.dropna(axis=0)\n",
    "df.isnull().sum()"
   ]
  },
  {
   "cell_type": "code",
   "execution_count": null,
   "metadata": {},
   "outputs": [],
   "source": [
    "# check for duplicates\n",
    "df.duplicated().sum()"
   ]
  },
  {
   "cell_type": "code",
   "execution_count": null,
   "metadata": {},
   "outputs": [],
   "source": [
    "# delete duplicates\n",
    "df = df.drop_duplicates()\n",
    "df.duplicated().sum()"
   ]
  },
  {
   "cell_type": "code",
   "execution_count": null,
   "metadata": {},
   "outputs": [],
   "source": [
    "#detect outliers for px1,px2,py1,py2,pz1,pz2 us boxplot\n",
    "plt.figure(figsize=(10,10))\n",
    "plt.subplot(3,2,1)\n",
    "sns.boxplot(x=df['px1 '])\n",
    "plt.subplot(3,2,2)\n",
    "sns.boxplot(x=df['px2'])\n",
    "plt.subplot(3,2,3)\n",
    "sns.boxplot(x=df['py1'])\n",
    "plt.subplot(3,2,4)\n",
    "sns.boxplot(x=df['py2'])\n",
    "plt.subplot(3,2,5)\n",
    "sns.boxplot(x=df['pz1'])\n",
    "plt.subplot(3,2,6)\n",
    "sns.boxplot(x=df['pz2'])\n",
    "plt.show()\n",
    "\n"
   ]
  },
  {
   "cell_type": "code",
   "execution_count": null,
   "metadata": {},
   "outputs": [],
   "source": [
    "# plot distribution of mass\n",
    "plt.figure(figsize=(6,6))\n",
    "df.M.plot(kind='hist', bins=200, color='blue')\n",
    "plt.title('Distribution of M')\n",
    "plt.xlabel('M - mass')\n",
    "plt.grid()\n",
    "plt.show()"
   ]
  },
  {
   "cell_type": "code",
   "execution_count": null,
   "metadata": {},
   "outputs": [],
   "source": [
    "# generate data\n",
    "features = df.drop(['M'], axis=1).to_numpy()\n",
    "labels = df.M.to_numpy()"
   ]
  },
  {
   "cell_type": "code",
   "execution_count": null,
   "metadata": {},
   "outputs": [],
   "source": [
    "#create a scatte plot between M and each feature\n",
    "plt.figure(figsize=(20,20))\n",
    "for i in range(0, features.shape[1]):\n",
    "    plt.subplot(5, 5, i+1)\n",
    "    plt.scatter(features[:,i], labels, color='blue', s=1)\n",
    "    plt.xlabel(df.columns[i])\n",
    "    plt.ylabel('M')\n",
    "plt.show()\n"
   ]
  },
  {
   "cell_type": "code",
   "execution_count": null,
   "metadata": {},
   "outputs": [],
   "source": [
    "# split data into train, test and validation sets\n",
    "X, X_test, y, y_test = train_test_split(features, labels, test_size=0.2,train_size=0.8)\n",
    "X_train, X_val, y_train, y_val = train_test_split(X,y,test_size = 0.25,train_size =0.75)\n",
    "X_train.shape, y_train.shape, X_test.shape, y_test.shape, X_val.shape, y_val.shape"
   ]
  },
  {
   "cell_type": "code",
   "execution_count": null,
   "metadata": {},
   "outputs": [],
   "source": [
    "# standardize data\n",
    "X_test_std = StandardScaler().fit_transform(X_test)\n",
    "X_train_std = StandardScaler().fit_transform(X_train)\n",
    "\n",
    "np.allclose(X_train.mean(axis=0), np.zeros(X_train.shape[1])),\\\n",
    "    np.allclose(X_train_std.mean(axis=0),np.zeros(X_train_std.shape[1])),\\\n",
    "        np.allclose(X_train.std(axis=0), np.ones(X_train.shape[1])),\\\n",
    "            np.allclose(X_train_std.std(axis=0), np.ones(X_train_std.shape[1]))"
   ]
  },
  {
   "cell_type": "code",
   "execution_count": null,
   "metadata": {},
   "outputs": [],
   "source": [
    "corr = df.corr()\n",
    "\n",
    "fig = plt.figure(figsize = (20,20))\n",
    "sns.heatmap(corr, annot=True, cmap='RdYlGn',\n",
    "            vmin=-1, vmax=1)\n",
    "plt.show()"
   ]
  },
  {
   "cell_type": "code",
   "execution_count": null,
   "metadata": {},
   "outputs": [],
   "source": [
    "clf = RandomForestRegressor(n_estimators=100)\n",
    "clf.fit(X_train_std, y_train)\n",
    "print(clf.feature_importances_)\n",
    "y_pred = clf.predict(X_train_std)\n",
    "rmse = np.sqrt(mean_squared_error(y_train, y_pred))\n",
    "print(rmse)\n",
    "y_pred = clf.predict(X_test_std)\n",
    "rmse = np.sqrt(mean_squared_error(y_test, y_pred))\n",
    "print(rmse)\n",
    "figure = plt.figure(figsize=(10,10))\n",
    "plt.scatter(range(100), y_pred[:100], c=\"red\")\n",
    "plt.scatter(range(100), y_test[:100], c=\"blue\")\n",
    "plt.show()"
   ]
  },
  {
   "cell_type": "code",
   "execution_count": null,
   "metadata": {},
   "outputs": [],
   "source": [
    "clf = tree.DecisionTreeRegressor()\n",
    "clf.fit(X_train_std, y_train)\n",
    "y_pred = clf.predict(X_train_std)\n",
    "rmse = np.sqrt(mean_squared_error(y_train, y_pred))\n",
    "print(rmse)\n",
    "y_pred = clf.predict(X_test_std)\n",
    "rmse = np.sqrt(mean_squared_error(y_test, y_pred))\n",
    "rmse"
   ]
  },
  {
   "cell_type": "code",
   "execution_count": null,
   "metadata": {},
   "outputs": [],
   "source": [
    "regr = MLPRegressor(max_iter=1000, learning_rate=\"adaptive\").fit(X_train, y_train)\n",
    "y_pred = regr.predict(X_train)\n",
    "rmse = np.sqrt(mean_squared_error(y_train, y_pred))\n",
    "print(rmse)\n",
    "y_pred = regr.predict(X_test_std)\n",
    "rmse = np.sqrt(mean_squared_error(y_test, y_pred))\n",
    "rmse"
   ]
  },
  {
   "cell_type": "code",
   "execution_count": null,
   "metadata": {},
   "outputs": [],
   "source": [
    "clf = LinearRegression()\n",
    "clf.fit(X_train_std, y_train)\n",
    "y_pred = clf.predict(X_train_std)\n",
    "rmse = np.sqrt(mean_squared_error(y_train, y_pred))\n",
    "print(rmse)\n",
    "y_pred = clf.predict(X_test_std)\n",
    "rmse = np.sqrt(mean_squared_error(y_test, y_pred))\n",
    "rmse\n",
    "figure = plt.figure(figsize=(10,10))\n",
    "plt.scatter(range(100), y_pred[:100], c=\"red\")\n",
    "plt.scatter(range(100), y_test[:100], c=\"blue\")\n",
    "plt.show()"
   ]
  },
  {
   "cell_type": "code",
   "execution_count": null,
   "metadata": {},
   "outputs": [],
   "source": []
  }
 ],
 "metadata": {
  "kernelspec": {
   "display_name": "base",
   "language": "python",
   "name": "python3"
  },
  "language_info": {
   "codemirror_mode": {
    "name": "ipython",
    "version": 3
   },
   "file_extension": ".py",
   "mimetype": "text/x-python",
   "name": "python",
   "nbconvert_exporter": "python",
   "pygments_lexer": "ipython3",
   "version": "3.11.4"
  }
 },
 "nbformat": 4,
 "nbformat_minor": 0
}
